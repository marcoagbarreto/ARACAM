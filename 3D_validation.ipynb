{
 "cells": [
  {
   "cell_type": "markdown",
   "id": "9329bc81",
   "metadata": {},
   "source": [
    "# 3D Validation\n",
    "\n",
    "This notebook loads two meshes; the first obtained from an image reconstruction; the second one obtained from a CT scan. A point cloud sampling takes place for both meshes to aligned them with the ICP algorithm. Once aligned, the Hausdorff distance is calculated."
   ]
  },
  {
   "cell_type": "code",
   "execution_count": 1,
   "id": "553c3769-3d77-4a8e-ae0b-7440f82f2290",
   "metadata": {},
   "outputs": [
    {
     "name": "stdout",
     "output_type": "stream",
     "text": [
      "Jupyter environment detected. Enabling Open3D WebVisualizer.\n",
      "[Open3D INFO] WebRTC GUI backend enabled.\n",
      "[Open3D INFO] WebRTCWindowSystem: HTTP handshake server disabled.\n"
     ]
    }
   ],
   "source": [
    "import os\n",
    "import open3d as o3d\n",
    "import pymeshlab \n",
    "import matplotlib.pyplot as plt\n",
    "import numpy as np\n",
    "import plotly.figure_factory as ff\n",
    "import pandas as pd\n",
    "from open3d.visualization import draw_geometries\n",
    "from scipy.spatial.distance import directed_hausdorff\n",
    "from scipy.spatial.distance import dice"
   ]
  },
  {
   "cell_type": "code",
   "execution_count": 2,
   "id": "37e6fba6-ad43-4851-bff8-9ed42f0c56da",
   "metadata": {},
   "outputs": [
    {
     "name": "stdout",
     "output_type": "stream",
     "text": [
      "[WinError 183] Cannot create a file when that file already exists: 'model_demo/'\n"
     ]
    }
   ],
   "source": [
    "# Path  \n",
    "path = \"model_demo/\"\n",
    "\n",
    "try:  \n",
    "    os.mkdir(path)  \n",
    "except OSError as error:  \n",
    "    print(error)"
   ]
  },
  {
   "cell_type": "markdown",
   "id": "91fac7fe-3ec5-4bdf-a0d7-7150394eaa64",
   "metadata": {},
   "source": [
    "## Calculate the Hausdorff distance \n",
    "\n",
    "Obtains the Hausdorff distance for the worst case scenario"
   ]
  },
  {
   "cell_type": "code",
   "execution_count": 3,
   "id": "283f4d21-638a-4ae0-8bee-f541bb4161af",
   "metadata": {},
   "outputs": [
    {
     "data": {
      "text/plain": [
       "TriangleMesh with 9358 points and 18716 triangles."
      ]
     },
     "execution_count": 3,
     "metadata": {},
     "output_type": "execute_result"
    }
   ],
   "source": [
    "# Loading the original mesh\n",
    "mesh_orig = o3d.io.read_triangle_mesh(path +'Original_studyCase_M1.ply')\n",
    "mesh_orig.compute_vertex_normals()\n",
    "mesh_orig.paint_uniform_color((0.0, 0.0, 1.0));\n",
    "\n",
    "# Loading the reconstructed mesh\n",
    "mesh_rec = o3d.io.read_triangle_mesh(path +'M1\\M1_mesh_poisson.ply')\n",
    "mesh_rec.compute_vertex_normals()\n",
    "mesh_rec.paint_uniform_color((0.0, 1.0, 0.0));\n",
    "# Transformamos para obtener un mejor registro\n",
    "mesh_rec.scale(1000.0, center=mesh_rec.get_center())\n",
    "mesh_rec.rotate(mesh_rec.get_rotation_matrix_from_xyz((np.pi / 2, 0, np.pi)), center=(0, 0, 0))"
   ]
  },
  {
   "cell_type": "code",
   "execution_count": 4,
   "id": "11b01067",
   "metadata": {},
   "outputs": [],
   "source": [
    "# Sample a point cloud with 20000 points using Poisson sampling.\n",
    "pts_orig = mesh_orig.sample_points_poisson_disk(number_of_points=20000, init_factor=4)\n",
    "pts_rec = mesh_rec.sample_points_poisson_disk(number_of_points=20000, init_factor=4)\n",
    "pts_orig.paint_uniform_color((0.0, 0.0, 1.0));\n",
    "pts_rec.paint_uniform_color((0.0, 1.0, 0.0));"
   ]
  },
  {
   "cell_type": "markdown",
   "id": "55443c83",
   "metadata": {},
   "source": [
    "Before using ICP registration, an initial alignment happens between the two meshes with a rigid transformation."
   ]
  },
  {
   "cell_type": "code",
   "execution_count": 5,
   "id": "b00b0b0f",
   "metadata": {},
   "outputs": [],
   "source": [
    "# A identity homogeneous transformation matrix is created.\n",
    "mat_init = np.asarray([[1.0, 0.0, 0.0, 0.0],\n",
    "                       [0.0, 1.0, 0.0, 0.0],\n",
    "                       [0.0, 0.0, 1.0, 0.0],\n",
    "                       [0.0, 0.0, 0.0, 1.0]])\n",
    "\n",
    "# The ICP point cloud registration takes place.\n",
    "mat_reg = o3d.pipelines.registration.registration_icp(\n",
    "    pts_rec, pts_orig, 20.0, mat_init,\n",
    "    o3d.pipelines.registration.TransformationEstimationPointToPlane(),\n",
    "    o3d.pipelines.registration.ICPConvergenceCriteria(max_iteration = 500))\n",
    "\n",
    "# Geometries are drawn\n",
    "pts_rec.transform(mat_reg.transformation)\n",
    "mesh_rec.transform(mat_reg.transformation)\n",
    "draw_geometries([mesh_rec, mesh_orig])"
   ]
  },
  {
   "cell_type": "code",
   "execution_count": 6,
   "id": "c5225cb8-4396-4a0a-b945-aabc42e7d7b6",
   "metadata": {},
   "outputs": [
    {
     "data": {
      "text/plain": [
       "True"
      ]
     },
     "execution_count": 6,
     "metadata": {},
     "output_type": "execute_result"
    }
   ],
   "source": [
    "o3d.io.write_triangle_mesh(path +\"copy_of_Original_studyCase_M1.stl\", mesh_orig)\n",
    "o3d.io.write_triangle_mesh(path +\"copy_of_M1_mesh_poisson.stl\", mesh_rec)"
   ]
  },
  {
   "cell_type": "code",
   "execution_count": 7,
   "id": "be6aad45-e26d-40a5-b7b1-c89d7b4ac1c2",
   "metadata": {},
   "outputs": [],
   "source": [
    "mesh1 = o3d.io.read_triangle_mesh(path +'copy_of_Original_studyCase_M1.stl')\n",
    "mesh1.compute_vertex_normals()\n",
    "mesh1.paint_uniform_color((0.0, 0.0, 1.0))\n",
    "\n",
    "mesh2 = o3d.io.read_triangle_mesh(path +'copy_of_M1_mesh_poisson.stl')\n",
    "mesh2.compute_vertex_normals()\n",
    "mesh2.paint_uniform_color((0.0, 1.0, 1.0))\n",
    "\n",
    "draw_geometries([mesh1, mesh2])"
   ]
  },
  {
   "cell_type": "code",
   "execution_count": 8,
   "id": "e47f7633",
   "metadata": {},
   "outputs": [
    {
     "name": "stdout",
     "output_type": "stream",
     "text": [
      "Hausdorff: 11.418940784542796\n"
     ]
    }
   ],
   "source": [
    "# The mesh similarity is measured by using Hausdorff distance\n",
    "print(\"Hausdorff:\", directed_hausdorff(pts_rec.points, pts_orig.points)[0])"
   ]
  },
  {
   "cell_type": "markdown",
   "id": "f5d832c5-b647-4122-883d-fcfa1ef7dff1",
   "metadata": {},
   "source": [
    "## Statistics summary\n",
    "\n",
    "Display the summary report by computing the Root Mean Square, Mean, Median, Interquartiles"
   ]
  },
  {
   "cell_type": "code",
   "execution_count": 9,
   "id": "76362d64-fa4e-4649-8d08-f7f841464906",
   "metadata": {},
   "outputs": [],
   "source": [
    "# Using pymeshlab to compute statistics\n",
    "ms = pymeshlab.MeshSet()\n",
    "ms.load_new_mesh(path +'copy_of_Original_studyCase_M1.stl')\n",
    "ms.load_new_mesh(path +'copy_of_M1_mesh_poisson.stl')"
   ]
  },
  {
   "cell_type": "code",
   "execution_count": 10,
   "id": "b367970c-0b08-4008-8350-9ee2018b96a2",
   "metadata": {},
   "outputs": [
    {
     "data": {
      "text/plain": [
       "{'RMS': 2.7284488677978516,\n",
       " 'diag_mesh_0': 251.44259643554688,\n",
       " 'diag_mesh_1': 240.4421550599154,\n",
       " 'max': 10.71070384979248,\n",
       " 'mean': 1.9323740005493164,\n",
       " 'min': 6.072019914427074e-06,\n",
       " 'n_samples': 3833}"
      ]
     },
     "execution_count": 10,
     "metadata": {},
     "output_type": "execute_result"
    }
   ],
   "source": [
    "ms.apply_filter('get_hausdorff_distance', targetmesh=1, sampledmesh=0, savesample = True)"
   ]
  },
  {
   "cell_type": "code",
   "execution_count": 11,
   "id": "4f4fbcda-b830-4c53-9c26-5bf1568bef24",
   "metadata": {},
   "outputs": [
    {
     "name": "stdout",
     "output_type": "stream",
     "text": [
      "RMS:  2.728448818525425\n",
      "Mean:  1.9323740495020343\n"
     ]
    }
   ],
   "source": [
    "# Obtain the Hausdorff distance along all vertices\n",
    "vq = ms.mesh(2).vertex_scalar_array()\n",
    "\n",
    "# Calculate the root mean squared and mean from the Hausdorff distances\n",
    "squared = np.square(vq)\n",
    "avg = np.sum(squared)/len(vq)\n",
    "rms = np.sqrt(avg)\n",
    "\n",
    "mean = np.mean(vq)\n",
    "\n",
    "print('RMS: ', rms)\n",
    "print('Mean: ', mean)"
   ]
  },
  {
   "cell_type": "code",
   "execution_count": 12,
   "id": "b84c1b04-ebfa-4963-8eca-21b9cf62274d",
   "metadata": {},
   "outputs": [
    {
     "name": "stdout",
     "output_type": "stream",
     "text": [
      "Median:  1.266014903578693\n",
      "Interquartile Range:  2.06235222606335\n"
     ]
    }
   ],
   "source": [
    "data = np.sort(vq)\n",
    "# First quartile (Q1)\n",
    "Q1 = np.median(data[:1915])\n",
    "\n",
    "# Second quartile (Q2)\n",
    "Q2 = np.median(data)\n",
    "\n",
    "# Third quartile (Q3)\n",
    "Q3 = np.median(data[1917:])\n",
    "  \n",
    "# Interquartile range (IQR)\n",
    "IQR = Q3 - Q1\n",
    "\n",
    "\n",
    "print('Median: ', Q2)\n",
    "print('Interquartile Range: ', IQR)"
   ]
  },
  {
   "cell_type": "markdown",
   "id": "96047a6b-bafe-45c8-a7a2-32339762ac0f",
   "metadata": {},
   "source": [
    "## Plot and Table\n",
    "\n",
    "Display a histogram of all the Hausdorff distances along the vertices "
   ]
  },
  {
   "cell_type": "code",
   "execution_count": 13,
   "id": "0c043c1c-adb8-4f1d-aa3c-4db7ecaf7ab6",
   "metadata": {},
   "outputs": [
    {
     "data": {
      "image/png": "[encoded data removed]",
      "text/plain": [
       "<Figure size 432x288 with 1 Axes>"
      ]
     },
     "metadata": {
      "needs_background": "light"
     },
     "output_type": "display_data"
    }
   ],
   "source": [
    "# Create a histogram of all the Hausdorff distances along the vertices\n",
    "\n",
    "# This is  the colormap I'd like to use.\n",
    "cm = plt.cm.get_cmap('jet')\n",
    "\n",
    "# Plot histogram.\n",
    "n, bins, patches = plt.hist(vq, 256, density = True)\n",
    "bin_centers = 0.5 * (bins[:-1] + bins[1:])\n",
    "\n",
    "# scale values to interval [0,1]\n",
    "col = bin_centers - min(bin_centers)\n",
    "col /= max(col)\n",
    "\n",
    "for c, p in zip(col, patches):\n",
    "    plt.setp(p, 'facecolor', cm(c))\n",
    "\n",
    "plt.xticks(np.linspace(float(format(min(vq), '.1f')),\n",
    "               float(format(max(vq), '.1f')),\n",
    "               num = 21,\n",
    "               endpoint = True))\n",
    "plt.tick_params(axis ='x', rotation = -90)\n",
    "\n",
    "\n",
    "output_file = path + \"/HD_histogram.svg\"\n",
    "plt.savefig(output_file,\n",
    "        bbox_inches =\"tight\",\n",
    "        transparent = True,\n",
    "        facecolor =\"w\",\n",
    "        edgecolor ='w',\n",
    "        orientation ='landscape')    \n",
    "    \n",
    "plt.show()\n",
    "\n",
    "# https://stackoverflow.com/questions/23061657/plot-histogram-with-colors-taken-from-colormap\n",
    "# https://www.geeksforgeeks.org/numpy-linspace-python/\n",
    "# https://www.geeksforgeeks.org/python-matplotlib-pyplot-ticks/\n",
    "\n",
    "# https://stackoverflow.com/questions/65371819/meaning-of-hausdorff-distance-results-in-meshlab\n",
    "# https://stackoverflow.com/questions/58166100/how-to-show-the-heat-map-for-the-hausdorff-distance-in-meshlab\n",
    "# https://stackoverflow.com/questions/46089463/comparing-models-somebody-can-give-me-an-exmple\n"
   ]
  },
  {
   "cell_type": "code",
   "execution_count": 18,
   "id": "88654b6b-b17c-4611-b953-d8525e6eb0c5",
   "metadata": {},
   "outputs": [
    {
     "data": {
      "text/html": [
       "<div>\n",
       "<style scoped>\n",
       "    .dataframe tbody tr th:only-of-type {\n",
       "        vertical-align: middle;\n",
       "    }\n",
       "\n",
       "    .dataframe tbody tr th {\n",
       "        vertical-align: top;\n",
       "    }\n",
       "\n",
       "    .dataframe thead th {\n",
       "        text-align: right;\n",
       "    }\n",
       "</style>\n",
       "<table border=\"1\" class=\"dataframe\">\n",
       "  <thead>\n",
       "    <tr style=\"text-align: right;\">\n",
       "      <th></th>\n",
       "      <th>Min.</th>\n",
       "      <th>1st Qu.</th>\n",
       "      <th>Median</th>\n",
       "      <th>Mean</th>\n",
       "      <th>3rd Qu.</th>\n",
       "      <th>Max.</th>\n",
       "      <th>IQR</th>\n",
       "      <th>RMS</th>\n",
       "    </tr>\n",
       "  </thead>\n",
       "  <tbody>\n",
       "    <tr>\n",
       "      <th>0</th>\n",
       "      <td>0.00</td>\n",
       "      <td>0.59</td>\n",
       "      <td>1.27</td>\n",
       "      <td>1.93</td>\n",
       "      <td>2.65</td>\n",
       "      <td>10.71</td>\n",
       "      <td>2.06</td>\n",
       "      <td>2.73</td>\n",
       "    </tr>\n",
       "  </tbody>\n",
       "</table>\n",
       "</div>"
      ],
      "text/plain": [
       "   Min. 1st Qu. Median  Mean 3rd Qu.   Max.   IQR   RMS\n",
       "0  0.00    0.59   1.27  1.93    2.65  10.71  2.06  2.73"
      ]
     },
     "execution_count": 18,
     "metadata": {},
     "output_type": "execute_result"
    }
   ],
   "source": [
    "df = pd.DataFrame()\n",
    "\n",
    "df['Min.'] = [format(min(vq), '.2f')]\n",
    "df['1st Qu.'] = [format(Q1, '.2f')]\n",
    "df['Median'] = [format(Q2, '.2f')]\n",
    "df['Mean'] = [format(mean, '.2f')]\n",
    "df['3rd Qu.'] = [format(Q3, '.2f')]\n",
    "df['Max.'] = [format(max(vq), '.2f')]\n",
    "df['IQR'] = [format(IQR, '.2f')]\n",
    "df['RMS'] = [format(rms, '.2f')]\n",
    "\n",
    "df"
   ]
  },
  {
   "cell_type": "code",
   "execution_count": null,
   "id": "f618ca2f-a297-4310-bc89-248171de61b4",
   "metadata": {},
   "outputs": [],
   "source": []
  }
 ],
 "metadata": {
  "kernelspec": {
   "display_name": "Python 3 (ipykernel)",
   "language": "python",
   "name": "python3"
  },
  "language_info": {
   "codemirror_mode": {
    "name": "ipython",
    "version": 3
   },
   "file_extension": ".py",
   "mimetype": "text/x-python",
   "name": "python",
   "nbconvert_exporter": "python",
   "pygments_lexer": "ipython3",
   "version": "3.9.7"
  }
 },
 "nbformat": 4,
 "nbformat_minor": 5
}
