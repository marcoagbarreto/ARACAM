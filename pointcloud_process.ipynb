{
 "cells": [
  {
   "cell_type": "markdown",
   "id": "512d574b",
   "metadata": {},
   "source": [
    "# Poincloud Processing\n",
    "\n",
    "The Camera Transformation Matrix: The transformation that places the camera in the correct position and orientation in world space (this is the transformation that you would apply to a 3D model of the camera if you wanted to represent it in the scene)."
   ]
  },
  {
   "cell_type": "code",
   "execution_count": 1,
   "id": "38208b7c",
   "metadata": {},
   "outputs": [
    {
     "name": "stdout",
     "output_type": "stream",
     "text": [
      "Jupyter environment detected. Enabling Open3D WebVisualizer.\n",
      "[Open3D INFO] WebRTC GUI backend enabled.\n",
      "[Open3D INFO] WebRTCWindowSystem: HTTP handshake server disabled.\n"
     ]
    }
   ],
   "source": [
    "import open3d as o3d\n",
    "import numpy as np\n",
    "import pandas as pd\n",
    "import copy\n",
    "import time\n",
    "import os\n",
    "import sys\n",
    "import glob\n",
    "import yaml\n",
    "import pyvista as pv\n",
    "import pymeshfix as mf\n",
    "\n",
    "from dictionary_manager import get_serial_dictionary"
   ]
  },
  {
   "cell_type": "code",
   "execution_count": 3,
   "id": "27a8e94f",
   "metadata": {},
   "outputs": [],
   "source": [
    "def custom_draw_geometry(pcd):\n",
    "    #define the screen resolution\n",
    "    screen_res = 1920, 1080\n",
    "    window_size = 640, 480\n",
    "    # The following code achieves the same effect as:\n",
    "    # o3d.visualization.draw_geometries([pcd])\n",
    "    vis = o3d.visualization.Visualizer()\n",
    "    vis.create_window(width=window_size[0], height=window_size[1], left=(screen_res[0]//2)-(window_size[0]//2), top=(screen_res[1]//2)-(window_size[1]//2))\n",
    "    if isinstance(pcd, list):\n",
    "        for point_cloud in pcd: \n",
    "            vis.add_geometry(point_cloud)\n",
    "    else:\n",
    "        vis.add_geometry(pcd)\n",
    "    vis.run()\n",
    "    vis.destroy_window()"
   ]
  },
  {
   "cell_type": "code",
   "execution_count": 4,
   "id": "6540860f-6980-4870-9d97-c4711f24e99f",
   "metadata": {},
   "outputs": [],
   "source": [
    "def panel_draw(mesh):\n",
    "    pl = pv.Plotter()\n",
    "    pl.add_mesh(mesh, color='lightgrey')\n",
    "    pl.background_color = 'white'\n",
    "    pl.camera_position = 'xz'\n",
    "    pl.show(window_size=[640, 480], jupyter_backend = 'panel')"
   ]
  },
  {
   "cell_type": "code",
   "execution_count": 5,
   "id": "4e12067b",
   "metadata": {},
   "outputs": [],
   "source": [
    "def import_pointcloud(sequence_id, path):\n",
    "    \n",
    "    meshes = glob.glob(path + '/*.ply')\n",
    "    \n",
    "    file_name = path + '/' + 'transformation_matrix.yaml'\n",
    "    with open(file_name, 'r') as file:\n",
    "        transformation_matrix = yaml.safe_load(file)\n",
    "        \n",
    "    serial_mesh_path = get_serial_dictionary(meshes, transformation_matrix)\n",
    "    \n",
    "    mesh = {}\n",
    "    for serial, paths in serial_mesh_path.items():\n",
    "        mesh[serial] = o3d.io.read_point_cloud(paths)\n",
    "        \n",
    "    transformation = {}\n",
    "    for serial, matrix in transformation_matrix.items():\n",
    "        transformation[serial] = np.asarray(matrix)\n",
    "        \n",
    "    mesh_transform = {}\n",
    "    point_clouds = []\n",
    "    for serial, meshes in mesh.items():\n",
    "        mesh_transform[serial] = copy.deepcopy(meshes).transform(transformation[serial])\n",
    "        point_clouds.append(mesh_transform[serial])\n",
    "        \n",
    "    import_pointcloud.voxel_size = 0.002\n",
    "    pcds_down = {}\n",
    "    for serial, pcds in mesh_transform.items():\n",
    "        pcds_down[serial] = pcds.voxel_down_sample(voxel_size=import_pointcloud.voxel_size)\n",
    "    \n",
    "    camera_location = {}\n",
    "    for serial, translation in transformation.items():\n",
    "        camera_location[serial] = translation[0:3,3]\n",
    "        \n",
    "    pcds_normals = {}\n",
    "    for serial, pcds in pcds_down.items():\n",
    "        pcds_normals[serial] = get_pc_normals(pcds, camera_location[serial])\n",
    "    \n",
    "    sequence_pcds = []\n",
    "    for serial in sequence_id:\n",
    "        sequence_pcds.append(pcds_normals[serial])\n",
    "\n",
    "    return sequence_pcds"
   ]
  },
  {
   "cell_type": "code",
   "execution_count": 6,
   "id": "32ece706",
   "metadata": {},
   "outputs": [],
   "source": [
    "def pc_down_sample(pcds, voxel_size):\n",
    "    \n",
    "    pcds_down = []\n",
    "    if isinstance(pcds, list):\n",
    "        for point_cloud in pcds:\n",
    "            pcd_temp = point_cloud.voxel_down_sample(voxel_size=voxel_size)\n",
    "            pcds_down.append(pcd_temp)\n",
    "        \n",
    "    else:\n",
    "        pcds_down = pcds.voxel_down_sample(voxel_size=voxel_size)       \n",
    "        \n",
    "    return pcds_down"
   ]
  },
  {
   "cell_type": "code",
   "execution_count": 7,
   "id": "d316a0ca",
   "metadata": {},
   "outputs": [],
   "source": [
    "def get_pc_normals(pcds_down, camera_loc):\n",
    "    if isinstance(pcds_down, list):\n",
    "        for point_cloud in pcds_down:\n",
    "            point_cloud.estimate_normals(search_param=o3d.geometry.KDTreeSearchParamHybrid(radius=0.1, max_nn=30))\n",
    "            point_cloudpoint_cloud.orient_normals_towards_camera_location(camera_location=camera_loc)\n",
    "    else:\n",
    "        pcds_down.estimate_normals(search_param=o3d.geometry.KDTreeSearchParamHybrid(radius=0.1, max_nn=30))\n",
    "        pcds_down.orient_normals_towards_camera_location(camera_location=camera_loc)\n",
    "    \n",
    "    \n",
    "    return pcds_down"
   ]
  },
  {
   "cell_type": "code",
   "execution_count": 10,
   "id": "70bc13dc",
   "metadata": {},
   "outputs": [],
   "source": [
    "def pairwise_registration(source, target):\n",
    "    coarse_threshold = import_pointcloud.voxel_size\n",
    "    fine_threshold = coarse_threshold * 0.25\n",
    "    current_transformation = np.identity(4)\n",
    "    icp_coarse = o3d.pipelines.registration.registration_icp( source, target, coarse_threshold, current_transformation, o3d.pipelines.registration.TransformationEstimationPointToPlane())\n",
    "    icp_fine = o3d.pipelines.registration.registration_icp(source, target, fine_threshold, icp_coarse.transformation, o3d.pipelines.registration.TransformationEstimationPointToPlane())\n",
    "\n",
    "    return icp_fine.transformation"
   ]
  },
  {
   "cell_type": "code",
   "execution_count": 11,
   "id": "ec2e8b24",
   "metadata": {},
   "outputs": [],
   "source": [
    "def combine_pcds(source, target):\n",
    "    pcd_combined = o3d.geometry.PointCloud()\n",
    "    pcd_combined = source + target\n",
    "    \n",
    "    return pcd_combined"
   ]
  },
  {
   "cell_type": "code",
   "execution_count": 12,
   "id": "01dbde71",
   "metadata": {},
   "outputs": [],
   "source": [
    "def full_registration(pcds):\n",
    "    new_pc = pcds[0]\n",
    "    for n in range(len(pcds)-1):\n",
    "        transformation = pairwise_registration(new_pc, pcds[n+1])\n",
    "        target_temp = copy.deepcopy(pcds[n+1])\n",
    "        new_pc.transform(transformation)\n",
    "        combined = combine_pcds(new_pc, target_temp)\n",
    "        new_pc = combined\n",
    "        \n",
    "    return new_pc"
   ]
  },
  {
   "cell_type": "code",
   "execution_count": 11,
   "id": "59108d4a-a78e-4822-88d4-ceab5b8a78ff",
   "metadata": {},
   "outputs": [],
   "source": [
    "def reconstruction(pc, patient, path): # Depth relates to the mesh quality, the bigger = more details\n",
    "    poisson_mesh = o3d.geometry.TriangleMesh.create_from_point_cloud_poisson(pc, depth=6, width=0, scale=1.1, linear_fit=False)[0] \n",
    "    bbox = pc.get_axis_aligned_bounding_box()\n",
    "    p_mesh_crop = poisson_mesh.crop(bbox)\n",
    "    \n",
    "    filename = patient + '_mesh_poisson.ply'\n",
    "    o3d.io.write_triangle_mesh(path + '/' + filename, p_mesh_crop)\n",
    "    \n",
    "    mesh = pv.read(path + '/' + filename)\n",
    "    meshfix = mf.MeshFix(mesh)\n",
    "    meshfix.repair()\n",
    "    meshfix.mesh.save(path + '/' + filename)\n",
    "    \n",
    "    mesh = o3d.io.read_triangle_mesh(path + '/' + filename)\n",
    "    simple = mesh.filter_smooth_simple(3)\n",
    "    taubin = simple.filter_smooth_taubin(2) \n",
    "    \n",
    "    o3d.io.write_triangle_mesh(path + '/' + filename, taubin)\n",
    "    mesh = pv.read(path + '/' + filename)\n",
    "    \n",
    "    return mesh"
   ]
  },
  {
   "cell_type": "code",
   "execution_count": 12,
   "id": "be415c7e",
   "metadata": {},
   "outputs": [],
   "source": [
    "def lod_mesh_export(mesh, lods, extension, path):\n",
    "    mesh_lods={}\n",
    "    for i in lods:\n",
    "        mesh_lod = mesh.simplify_quadric_decimation(i)\n",
    "        o3d.io.write_triangle_mesh(path + '/' +'lod_'+ str(i) + extension, mesh_lod)\n",
    "        mesh_lods[i]=mesh_lod\n",
    "    print(\"generation of \"+str(i)+\" LoD successful\")\n",
    "    return mesh_lods"
   ]
  },
  {
   "cell_type": "code",
   "execution_count": 14,
   "id": "a01a928e-b56b-43e2-8a19-207c51b03737",
   "metadata": {},
   "outputs": [],
   "source": [
    "def point_cloud_processing(sequence_id, patient, path):\n",
    "    pcds = import_pointcloud(sequence_id,path)\n",
    "    new_pc = full_registration(pcds)\n",
    "    mesh = reconstruction(new_pc, patient, path)\n",
    "    panel_draw(mesh)"
   ]
  }
 ],
 "metadata": {
  "kernelspec": {
   "display_name": "Python 3 (ipykernel)",
   "language": "python",
   "name": "python3"
  },
  "language_info": {
   "codemirror_mode": {
    "name": "ipython",
    "version": 3
   },
   "file_extension": ".py",
   "mimetype": "text/x-python",
   "name": "python",
   "nbconvert_exporter": "python",
   "pygments_lexer": "ipython3",
   "version": "3.9.7"
  }
 },
 "nbformat": 4,
 "nbformat_minor": 5
}
