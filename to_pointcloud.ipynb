{
 "cells": [
  {
   "cell_type": "markdown",
   "id": "veterinary-square",
   "metadata": {},
   "source": [
    "# To Pointcloud converter"
   ]
  },
  {
   "cell_type": "code",
   "execution_count": 1,
   "id": "instrumental-person",
   "metadata": {},
   "outputs": [],
   "source": [
    "import numpy as np\n",
    "import imageio\n",
    "import struct\n",
    "import os\n",
    "import glob\n",
    "import yaml\n",
    "\n",
    "from dictionary_manager import get_index\n",
    "from dictionary_manager import get_serial_dictionary"
   ]
  },
  {
   "cell_type": "code",
   "execution_count": 2,
   "id": "champion-ministry",
   "metadata": {},
   "outputs": [],
   "source": [
    "def get_pointcloud(color_image,depth_image,camera_intrinsics):\n",
    "    \"\"\" creates 3D point cloud of rgb images by taking depth information\n",
    "        input : color image: numpy array[h,w,c], dtype= uint8\n",
    "                depth image: numpy array[h,w] values of all channels will be same\n",
    "        output : camera_points, color_points - both of shape(no. of pixels, 3)\n",
    "    \"\"\"\n",
    "\n",
    "    image_height = depth_image.shape[0]\n",
    "    image_width = depth_image.shape[1]\n",
    "    pixel_x,pixel_y = np.meshgrid(np.linspace(0,image_width-1,image_width),\n",
    "                                  np.linspace(0,image_height-1,image_height))\n",
    "    camera_points_x = np.multiply(pixel_x-camera_intrinsics[0,2],depth_image/camera_intrinsics[0,0])\n",
    "    camera_points_y = np.multiply(pixel_y-camera_intrinsics[1,2],depth_image/camera_intrinsics[1,1])\n",
    "    camera_points_z = depth_image\n",
    "    camera_points = np.array([camera_points_x,camera_points_y,camera_points_z]).transpose(1,2,0).reshape(-1,3)\n",
    "\n",
    "    color_points = color_image.reshape(-1,3)\n",
    "\n",
    "    # Remove invalid 3D points (where depth == 0 and color == 0)\n",
    "    valid_depth_color_ind = np.where((depth_image.flatten() > 0) & (color_image[:,:,0].flatten() > 0))[0] # Check pixels greaters than 0 in both color and depth images\n",
    "    camera_points = camera_points[valid_depth_color_ind,:]\n",
    "    color_points = color_points[valid_depth_color_ind,:]\n",
    "\n",
    "    return camera_points,color_points"
   ]
  },
  {
   "cell_type": "code",
   "execution_count": 3,
   "id": "laughing-attendance",
   "metadata": {},
   "outputs": [],
   "source": [
    "def write_pointcloud(filename,xyz_points,rgb_points=None):\n",
    "\n",
    "    \"\"\" creates a .pkl file of the point clouds generated\n",
    "    \"\"\"\n",
    "\n",
    "    assert xyz_points.shape[1] == 3,'Input XYZ points should be Nx3 float array'\n",
    "    if rgb_points is None:\n",
    "        rgb_points = np.ones(xyz_points.shape).astype(np.uint8)*255\n",
    "    assert xyz_points.shape == rgb_points.shape,'Input RGB colors should be Nx3 float array and have same size as input XYZ points'\n",
    "\n",
    "    # Write header of .ply file\n",
    "    fid = open(filename,'wb')\n",
    "    fid.write(bytes('ply\\n', 'utf-8'))\n",
    "    fid.write(bytes('format binary_little_endian 1.0\\n', 'utf-8'))\n",
    "    fid.write(bytes('element vertex %d\\n'%xyz_points.shape[0], 'utf-8'))\n",
    "    fid.write(bytes('property float x\\n', 'utf-8'))\n",
    "    fid.write(bytes('property float y\\n', 'utf-8'))\n",
    "    fid.write(bytes('property float z\\n', 'utf-8'))\n",
    "    fid.write(bytes('property uchar red\\n', 'utf-8'))\n",
    "    fid.write(bytes('property uchar green\\n', 'utf-8'))\n",
    "    fid.write(bytes('property uchar blue\\n', 'utf-8'))\n",
    "    fid.write(bytes('end_header\\n', 'utf-8'))\n",
    "\n",
    "    # Write 3D points to .ply file\n",
    "    for i in range(xyz_points.shape[0]):\n",
    "        fid.write(bytearray(struct.pack(\"fffccc\",xyz_points[i,0],xyz_points[i,1],xyz_points[i,2],\n",
    "                                        rgb_points[i,0].tobytes(),rgb_points[i,1].tobytes(),\n",
    "                                        rgb_points[i,2].tobytes())))\n",
    "    fid.close()"
   ]
  },
  {
   "cell_type": "code",
   "execution_count": 4,
   "id": "disabled-survival",
   "metadata": {},
   "outputs": [],
   "source": [
    "def convert_to_pointcloud(path2, patient):\n",
    "    images = glob.glob(path2 + '/*.png')\n",
    "    \n",
    "    # Get the indices from the images folder corresponding to color and depth images\n",
    "    color_index = get_index('segment', images)\n",
    "    depth_index = get_index('depth', images)\n",
    "    \n",
    "    # Obtain the path of the corresponding indices for color and depth images\n",
    "    color_files = [images[i] for i in color_index]\n",
    "    depth_files = [images[i] for i in depth_index]\n",
    "    \n",
    "    file_name = path2 + '/' + 'intrinsics_matrix.yaml'\n",
    "    with open(file_name, 'r') as file:\n",
    "        intrinsics_matrix = yaml.safe_load(file)\n",
    "        \n",
    "    file_name = path2 + '/' + 'depth_scale.yaml'\n",
    "    with open(file_name, 'r') as file:\n",
    "        depth_scale = yaml.safe_load(file)\n",
    "        \n",
    "    serial_color_path = get_serial_dictionary(color_files, intrinsics_matrix)\n",
    "    serial_depth_path = get_serial_dictionary(depth_files, intrinsics_matrix) \n",
    "    \n",
    "    for serial in intrinsics_matrix:\n",
    "        color_data = imageio.imread(serial_color_path[serial])\n",
    "        depth_data = imageio.imread(serial_depth_path[serial])\n",
    "        depth_data = depth_data * depth_scale[serial]\n",
    "        camera_intrinsics = np.asarray(intrinsics_matrix[serial])\n",
    "\n",
    "        output_filename = path2 + '/' + patient + '_' + str(serial) + '.ply'\n",
    "        print(\"Creating the point Cloud file at : \", output_filename )\n",
    "        camera_points, color_points = get_pointcloud(color_data, depth_data, camera_intrinsics)\n",
    "        write_pointcloud(output_filename, camera_points, color_points)"
   ]
  },
  {
   "cell_type": "markdown",
   "id": "planned-wonder",
   "metadata": {},
   "source": [
    "## Reference\n",
    "\n",
    "* [Realsense - Create pointCloud](https://gist.github.com/Shreeyak/9a4948891541cb32b501d058db227fff)"
   ]
  }
 ],
 "metadata": {
  "kernelspec": {
   "display_name": "Python 3 (ipykernel)",
   "language": "python",
   "name": "python3"
  },
  "language_info": {
   "codemirror_mode": {
    "name": "ipython",
    "version": 3
   },
   "file_extension": ".py",
   "mimetype": "text/x-python",
   "name": "python",
   "nbconvert_exporter": "python",
   "pygments_lexer": "ipython3",
   "version": "3.9.7"
  }
 },
 "nbformat": 4,
 "nbformat_minor": 5
}
